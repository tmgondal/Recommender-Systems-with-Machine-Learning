{
 "cells": [
  {
   "cell_type": "markdown",
   "id": "cc39ddc8",
   "metadata": {},
   "source": [
    "# Content-Based Recommender\n"
   ]
  },
  {
   "cell_type": "markdown",
   "id": "63a9e6a8",
   "metadata": {},
   "source": [
    "The system uses your features and likes in order to recommend you with things that you might like. It uses the information provided by you over the internet and the ones they are able to gather and then they curate recommendations according to that."
   ]
  },
  {
   "cell_type": "markdown",
   "id": "73cb9f0c",
   "metadata": {},
   "source": [
    "lets import libraries"
   ]
  },
  {
   "cell_type": "code",
   "execution_count": 46,
   "id": "77476bc4",
   "metadata": {},
   "outputs": [],
   "source": [
    "import pandas as pd\n",
    "import numpy as np\n",
    "import matplotlib.pyplot as plt"
   ]
  },
  {
   "cell_type": "code",
   "execution_count": 47,
   "id": "a61efad0",
   "metadata": {},
   "outputs": [],
   "source": [
    "movies = pd.read_csv('movies.csv')"
   ]
  },
  {
   "cell_type": "code",
   "execution_count": 48,
   "id": "4b85810d",
   "metadata": {},
   "outputs": [
    {
     "data": {
      "text/html": [
       "<div>\n",
       "<style scoped>\n",
       "    .dataframe tbody tr th:only-of-type {\n",
       "        vertical-align: middle;\n",
       "    }\n",
       "\n",
       "    .dataframe tbody tr th {\n",
       "        vertical-align: top;\n",
       "    }\n",
       "\n",
       "    .dataframe thead th {\n",
       "        text-align: right;\n",
       "    }\n",
       "</style>\n",
       "<table border=\"1\" class=\"dataframe\">\n",
       "  <thead>\n",
       "    <tr style=\"text-align: right;\">\n",
       "      <th></th>\n",
       "      <th>movieId</th>\n",
       "      <th>title</th>\n",
       "      <th>genres</th>\n",
       "    </tr>\n",
       "  </thead>\n",
       "  <tbody>\n",
       "    <tr>\n",
       "      <th>0</th>\n",
       "      <td>1</td>\n",
       "      <td>Toy Story (1995)</td>\n",
       "      <td>Adventure|Animation|Children|Comedy|Fantasy</td>\n",
       "    </tr>\n",
       "    <tr>\n",
       "      <th>1</th>\n",
       "      <td>2</td>\n",
       "      <td>Jumanji (1995)</td>\n",
       "      <td>Adventure|Children|Fantasy</td>\n",
       "    </tr>\n",
       "    <tr>\n",
       "      <th>2</th>\n",
       "      <td>3</td>\n",
       "      <td>Grumpier Old Men (1995)</td>\n",
       "      <td>Comedy|Romance</td>\n",
       "    </tr>\n",
       "    <tr>\n",
       "      <th>3</th>\n",
       "      <td>4</td>\n",
       "      <td>Waiting to Exhale (1995)</td>\n",
       "      <td>Comedy|Drama|Romance</td>\n",
       "    </tr>\n",
       "    <tr>\n",
       "      <th>4</th>\n",
       "      <td>5</td>\n",
       "      <td>Father of the Bride Part II (1995)</td>\n",
       "      <td>Comedy</td>\n",
       "    </tr>\n",
       "  </tbody>\n",
       "</table>\n",
       "</div>"
      ],
      "text/plain": [
       "   movieId                               title  \\\n",
       "0        1                    Toy Story (1995)   \n",
       "1        2                      Jumanji (1995)   \n",
       "2        3             Grumpier Old Men (1995)   \n",
       "3        4            Waiting to Exhale (1995)   \n",
       "4        5  Father of the Bride Part II (1995)   \n",
       "\n",
       "                                        genres  \n",
       "0  Adventure|Animation|Children|Comedy|Fantasy  \n",
       "1                   Adventure|Children|Fantasy  \n",
       "2                               Comedy|Romance  \n",
       "3                         Comedy|Drama|Romance  \n",
       "4                                       Comedy  "
      ]
     },
     "execution_count": 48,
     "metadata": {},
     "output_type": "execute_result"
    }
   ],
   "source": [
    "\n",
    "movies.head(5)"
   ]
  },
  {
   "cell_type": "code",
   "execution_count": 49,
   "id": "8e54f404",
   "metadata": {},
   "outputs": [
    {
     "data": {
      "text/plain": [
       "(9742, 3)"
      ]
     },
     "execution_count": 49,
     "metadata": {},
     "output_type": "execute_result"
    }
   ],
   "source": [
    "\n",
    "movies.shape"
   ]
  },
  {
   "cell_type": "code",
   "execution_count": 50,
   "id": "b9ec5e7f",
   "metadata": {},
   "outputs": [],
   "source": [
    "\n",
    "# create a function to create a table showing the numbers of missing values for each feature\n",
    "def create_missing_df(dataframe):\n",
    "    missing_index = dataframe.columns.tolist() \n",
    "    missing = dataframe.isnull().sum().tolist()\n",
    "    missing_df = pd.DataFrame({'Missing':missing}, index=missing_index)\n",
    "    return missing_df"
   ]
  },
  {
   "cell_type": "code",
   "execution_count": 51,
   "id": "4ad3e718",
   "metadata": {},
   "outputs": [
    {
     "data": {
      "text/html": [
       "<div>\n",
       "<style scoped>\n",
       "    .dataframe tbody tr th:only-of-type {\n",
       "        vertical-align: middle;\n",
       "    }\n",
       "\n",
       "    .dataframe tbody tr th {\n",
       "        vertical-align: top;\n",
       "    }\n",
       "\n",
       "    .dataframe thead th {\n",
       "        text-align: right;\n",
       "    }\n",
       "</style>\n",
       "<table border=\"1\" class=\"dataframe\">\n",
       "  <thead>\n",
       "    <tr style=\"text-align: right;\">\n",
       "      <th></th>\n",
       "      <th>Missing</th>\n",
       "    </tr>\n",
       "  </thead>\n",
       "  <tbody>\n",
       "    <tr>\n",
       "      <th>movieId</th>\n",
       "      <td>0</td>\n",
       "    </tr>\n",
       "    <tr>\n",
       "      <th>title</th>\n",
       "      <td>0</td>\n",
       "    </tr>\n",
       "    <tr>\n",
       "      <th>genres</th>\n",
       "      <td>0</td>\n",
       "    </tr>\n",
       "  </tbody>\n",
       "</table>\n",
       "</div>"
      ],
      "text/plain": [
       "         Missing\n",
       "movieId        0\n",
       "title          0\n",
       "genres         0"
      ]
     },
     "execution_count": 51,
     "metadata": {},
     "output_type": "execute_result"
    }
   ],
   "source": [
    "create_missing_df(movies)\n"
   ]
  },
  {
   "cell_type": "code",
   "execution_count": 52,
   "id": "e1cec4af",
   "metadata": {},
   "outputs": [],
   "source": [
    "# the function to extract titles\n",
    "def extract_title(title):\n",
    "    year = title[len(title)-5:len(title)-1]\n",
    "\n",
    "  # some movies do not have the info about year in the column title. So, we should take care of the case as well.\n",
    "    if year.isnumeric():\n",
    "        title_no_year = title[:len(title)-7]\n",
    "        return title_no_year\n",
    "    else:\n",
    "        return title"
   ]
  },
  {
   "cell_type": "code",
   "execution_count": 53,
   "id": "c874cd28",
   "metadata": {},
   "outputs": [],
   "source": [
    "# the function to extract years\n",
    "def extract_year(title):\n",
    "    year = title[len(title)-5:len(title)-1]\n",
    "\n",
    "  # some movies do not have the info about year in the column title. So, we should take care of the case as well.\n",
    "    if year.isnumeric():\n",
    "        return int(year)\n",
    "    else:\n",
    "        return np.nan"
   ]
  },
  {
   "cell_type": "code",
   "execution_count": 54,
   "id": "a7e1906c",
   "metadata": {},
   "outputs": [],
   "source": [
    "movies.rename(columns={'title':'title_year'}, inplace=True) # change the column name from title to title_year\n",
    "movies['title_year'] = movies['title_year'].apply(lambda x: x.strip()) # remove leading and ending whitespaces in title_year\n",
    "movies['title'] = movies['title_year'].apply(extract_title) # create the column for title\n",
    "movies['year'] = movies['title_year'].apply(extract_year) # create the column for year"
   ]
  },
  {
   "cell_type": "code",
   "execution_count": 55,
   "id": "5725d8eb",
   "metadata": {},
   "outputs": [
    {
     "data": {
      "text/html": [
       "<div>\n",
       "<style scoped>\n",
       "    .dataframe tbody tr th:only-of-type {\n",
       "        vertical-align: middle;\n",
       "    }\n",
       "\n",
       "    .dataframe tbody tr th {\n",
       "        vertical-align: top;\n",
       "    }\n",
       "\n",
       "    .dataframe thead th {\n",
       "        text-align: right;\n",
       "    }\n",
       "</style>\n",
       "<table border=\"1\" class=\"dataframe\">\n",
       "  <thead>\n",
       "    <tr style=\"text-align: right;\">\n",
       "      <th></th>\n",
       "      <th>Missing</th>\n",
       "    </tr>\n",
       "  </thead>\n",
       "  <tbody>\n",
       "    <tr>\n",
       "      <th>movieId</th>\n",
       "      <td>0</td>\n",
       "    </tr>\n",
       "    <tr>\n",
       "      <th>title_year</th>\n",
       "      <td>0</td>\n",
       "    </tr>\n",
       "    <tr>\n",
       "      <th>genres</th>\n",
       "      <td>0</td>\n",
       "    </tr>\n",
       "    <tr>\n",
       "      <th>title</th>\n",
       "      <td>0</td>\n",
       "    </tr>\n",
       "    <tr>\n",
       "      <th>year</th>\n",
       "      <td>12</td>\n",
       "    </tr>\n",
       "  </tbody>\n",
       "</table>\n",
       "</div>"
      ],
      "text/plain": [
       "            Missing\n",
       "movieId           0\n",
       "title_year        0\n",
       "genres            0\n",
       "title             0\n",
       "year             12"
      ]
     },
     "execution_count": 55,
     "metadata": {},
     "output_type": "execute_result"
    }
   ],
   "source": [
    "create_missing_df(movies)"
   ]
  },
  {
   "cell_type": "markdown",
   "id": "7ff68310",
   "metadata": {},
   "source": [
    "# Explore Generers"
   ]
  },
  {
   "cell_type": "code",
   "execution_count": 56,
   "id": "e1401c5d",
   "metadata": {},
   "outputs": [
    {
     "name": "stdout",
     "output_type": "stream",
     "text": [
      "The number of movies which do not have info about genres: 34\n"
     ]
    }
   ],
   "source": [
    "r,c = movies[movies['genres']=='(no genres listed)'].shape \n",
    "print('The number of movies which do not have info about genres:',r)"
   ]
  },
  {
   "cell_type": "code",
   "execution_count": 57,
   "id": "95e23199",
   "metadata": {},
   "outputs": [],
   "source": [
    "movies = movies[~(movies['genres']=='(no genres listed)')].reset_index(drop=True)"
   ]
  },
  {
   "cell_type": "code",
   "execution_count": 58,
   "id": "d9f496f7",
   "metadata": {},
   "outputs": [
    {
     "data": {
      "text/html": [
       "<div>\n",
       "<style scoped>\n",
       "    .dataframe tbody tr th:only-of-type {\n",
       "        vertical-align: middle;\n",
       "    }\n",
       "\n",
       "    .dataframe tbody tr th {\n",
       "        vertical-align: top;\n",
       "    }\n",
       "\n",
       "    .dataframe thead th {\n",
       "        text-align: right;\n",
       "    }\n",
       "</style>\n",
       "<table border=\"1\" class=\"dataframe\">\n",
       "  <thead>\n",
       "    <tr style=\"text-align: right;\">\n",
       "      <th></th>\n",
       "      <th>title</th>\n",
       "      <th>genres</th>\n",
       "    </tr>\n",
       "  </thead>\n",
       "  <tbody>\n",
       "    <tr>\n",
       "      <th>0</th>\n",
       "      <td>Toy Story</td>\n",
       "      <td>Adventure|Animation|Children|Comedy|Fantasy</td>\n",
       "    </tr>\n",
       "    <tr>\n",
       "      <th>1</th>\n",
       "      <td>Jumanji</td>\n",
       "      <td>Adventure|Children|Fantasy</td>\n",
       "    </tr>\n",
       "    <tr>\n",
       "      <th>2</th>\n",
       "      <td>Grumpier Old Men</td>\n",
       "      <td>Comedy|Romance</td>\n",
       "    </tr>\n",
       "    <tr>\n",
       "      <th>3</th>\n",
       "      <td>Waiting to Exhale</td>\n",
       "      <td>Comedy|Drama|Romance</td>\n",
       "    </tr>\n",
       "    <tr>\n",
       "      <th>4</th>\n",
       "      <td>Father of the Bride Part II</td>\n",
       "      <td>Comedy</td>\n",
       "    </tr>\n",
       "  </tbody>\n",
       "</table>\n",
       "</div>"
      ],
      "text/plain": [
       "                         title                                       genres\n",
       "0                    Toy Story  Adventure|Animation|Children|Comedy|Fantasy\n",
       "1                      Jumanji                   Adventure|Children|Fantasy\n",
       "2             Grumpier Old Men                               Comedy|Romance\n",
       "3            Waiting to Exhale                         Comedy|Drama|Romance\n",
       "4  Father of the Bride Part II                                       Comedy"
      ]
     },
     "execution_count": 58,
     "metadata": {},
     "output_type": "execute_result"
    }
   ],
   "source": [
    "movies[['title','genres']].head(5)"
   ]
  },
  {
   "cell_type": "code",
   "execution_count": 59,
   "id": "98225dfe",
   "metadata": {},
   "outputs": [
    {
     "name": "stderr",
     "output_type": "stream",
     "text": [
      "C:\\Users\\Taimoor M Gondal\\AppData\\Local\\Temp\\ipykernel_13956\\159315278.py:2: FutureWarning: The default value of regex will change from True to False in a future version. In addition, single character regular expressions will *not* be treated as literal strings when regex=True.\n",
      "  movies['genres'] = movies['genres'].str.replace('|',' ')\n"
     ]
    }
   ],
   "source": [
    "# remove '|' in the genres column\n",
    "movies['genres'] = movies['genres'].str.replace('|',' ')"
   ]
  },
  {
   "cell_type": "code",
   "execution_count": 60,
   "id": "212c6cd9",
   "metadata": {},
   "outputs": [],
   "source": [
    "# count the number of occurences for each genre in the data set\n",
    "counts = dict()\n",
    "\n",
    "for i in movies.index:\n",
    "    for g in movies.loc[i,'genres'].split(' '):\n",
    "        if g not in counts:\n",
    "            counts[g] = 1\n",
    "    else:\n",
    "        counts[g] = counts[g] + 1\n"
   ]
  },
  {
   "cell_type": "code",
   "execution_count": 61,
   "id": "c8f0f277",
   "metadata": {},
   "outputs": [
    {
     "data": {
      "text/plain": [
       "Text(0, 0.5, 'Counts')"
      ]
     },
     "execution_count": 61,
     "metadata": {},
     "output_type": "execute_result"
    },
    {
     "data": {
      "image/png": "[encoded data removed]",
      "text/plain": [
       "<Figure size 1296x432 with 1 Axes>"
      ]
     },
     "metadata": {
      "needs_background": "light"
     },
     "output_type": "display_data"
    }
   ],
   "source": [
    "plt.figure(figsize=(18,6))\n",
    "plt.bar(list(counts.keys()), counts.values(), color='r')\n",
    "plt.xticks(rotation=45)\n",
    "plt.xlabel('Genres')\n",
    "plt.ylabel('Counts')"
   ]
  },
  {
   "cell_type": "markdown",
   "id": "01be08cf",
   "metadata": {},
   "source": [
    "# Term Frequency and Inverse Document Frequency (tf-idf)"
   ]
  },
  {
   "cell_type": "markdown",
   "id": "b3e3b8bd",
   "metadata": {},
   "source": [
    "TF-IDF (term frequency-inverse document frequency) is a statistical measure that evaluates how relevant a word is to a document in a collection of documents.\n",
    "\n",
    "1. This is done by multiplying two metrics: how many times a word appears in a document, and the inverse document frequency of the word across a set of documents.\n",
    "\n",
    "2. It has many uses, most importantly in automated text analysis, and is very useful for scoring words in machine learning algorithms for Natural Language Processing (NLP).\n",
    "\n",
    "3. TF-IDF was invented for document search and information retrieval. It works by increasing proportionally to the number of times a word appears in a document, but is offset by the number of documents that contain the word. So, words that are common in every document, such as this, what, and if, rank low even though they may appear many times, since they don’t mean much to that document in particular."
   ]
  },
  {
   "cell_type": "code",
   "execution_count": 62,
   "id": "58245d8c",
   "metadata": {},
   "outputs": [],
   "source": [
    "from sklearn.feature_extraction.text import TfidfVectorizer"
   ]
  },
  {
   "cell_type": "code",
   "execution_count": 63,
   "id": "f89f3822",
   "metadata": {},
   "outputs": [],
   "source": [
    "movies['genres'] = movies['genres'].str.replace('Sci-Fi','SciFi')\n",
    "movies['genres'] = movies['genres'].str.replace('Film-Noir','Noir')"
   ]
  },
  {
   "cell_type": "code",
   "execution_count": 64,
   "id": "eb876c26",
   "metadata": {},
   "outputs": [],
   "source": [
    "tfidf_vector = TfidfVectorizer(stop_words='english') # create an object for TfidfVectorizer\n",
    "tfidf_matrix = tfidf_vector.fit_transform(movies['genres']) # apply the object to the genres column"
   ]
  },
  {
   "cell_type": "code",
   "execution_count": 65,
   "id": "38a7ad06",
   "metadata": {},
   "outputs": [
    {
     "name": "stdout",
     "output_type": "stream",
     "text": [
      "[(0, 'action'), (1, 'adventure'), (2, 'animation'), (3, 'children'), (4, 'comedy'), (5, 'crime'), (6, 'documentary'), (7, 'drama'), (8, 'fantasy'), (9, 'horror'), (10, 'imax'), (11, 'musical'), (12, 'mystery'), (13, 'noir'), (14, 'romance'), (15, 'scifi'), (16, 'thriller'), (17, 'war'), (18, 'western')]\n"
     ]
    },
    {
     "name": "stderr",
     "output_type": "stream",
     "text": [
      "C:\\Users\\Taimoor M Gondal\\anaconda3\\lib\\site-packages\\sklearn\\utils\\deprecation.py:87: FutureWarning: Function get_feature_names is deprecated; get_feature_names is deprecated in 1.0 and will be removed in 1.2. Please use get_feature_names_out instead.\n",
      "  warnings.warn(msg, category=FutureWarning)\n"
     ]
    }
   ],
   "source": [
    "print(list(enumerate(tfidf_vector.get_feature_names())))"
   ]
  },
  {
   "cell_type": "code",
   "execution_count": 66,
   "id": "6ce39b4e",
   "metadata": {},
   "outputs": [
    {
     "name": "stdout",
     "output_type": "stream",
     "text": [
      "  (0, 8)\t0.48301747178653426\n",
      "  (0, 4)\t0.26738777563975086\n",
      "  (0, 3)\t0.5048957307474672\n",
      "  (0, 2)\t0.5162876752057701\n",
      "  (0, 1)\t0.41680359510322523\n",
      "  (1, 8)\t0.5936766667075072\n",
      "  (1, 3)\t0.6205672299106341\n",
      "  (1, 1)\t0.5122932056626417\n",
      "  (2, 14)\t0.8211549883098352\n",
      "  (2, 4)\t0.5707052524498741\n",
      "  (3, 7)\t0.46621627821471856\n",
      "  (3, 14)\t0.7264518207332316\n",
      "  (3, 4)\t0.5048862585582906\n",
      "  (4, 4)\t1.0\n"
     ]
    }
   ],
   "source": [
    "print(tfidf_matrix[:5])\n"
   ]
  },
  {
   "cell_type": "code",
   "execution_count": 67,
   "id": "ef5cde80",
   "metadata": {},
   "outputs": [
    {
     "data": {
      "text/plain": [
       "(9708, 19)"
      ]
     },
     "execution_count": 67,
     "metadata": {},
     "output_type": "execute_result"
    }
   ],
   "source": [
    "tfidf_matrix.shape\n"
   ]
  },
  {
   "cell_type": "code",
   "execution_count": 68,
   "id": "04ad71ed",
   "metadata": {},
   "outputs": [
    {
     "data": {
      "text/plain": [
       "matrix([[0.        , 0.4168036 , 0.51628768, 0.50489573, 0.26738778,\n",
       "         0.        , 0.        , 0.        , 0.48301747, 0.        ,\n",
       "         0.        , 0.        , 0.        , 0.        , 0.        ,\n",
       "         0.        , 0.        , 0.        , 0.        ]])"
      ]
     },
     "execution_count": 68,
     "metadata": {},
     "output_type": "execute_result"
    }
   ],
   "source": [
    "# the first row vector of tfidf_matrix (Toy Story)\n",
    "tfidf_matrix.todense()[0]"
   ]
  },
  {
   "cell_type": "code",
   "execution_count": 69,
   "id": "b4e7b156",
   "metadata": {},
   "outputs": [],
   "source": [
    "from sklearn.metrics.pairwise import linear_kernel\n"
   ]
  },
  {
   "cell_type": "code",
   "execution_count": 70,
   "id": "30437f18",
   "metadata": {},
   "outputs": [
    {
     "name": "stdout",
     "output_type": "stream",
     "text": [
      "[[1.         0.8136036  0.15259961 ... 0.         0.42114166 0.26738778]\n",
      " [0.8136036  1.         0.         ... 0.         0.         0.        ]\n",
      " [0.15259961 0.         1.         ... 0.         0.         0.57070525]\n",
      " ...\n",
      " [0.         0.         0.         ... 1.         0.         0.        ]\n",
      " [0.42114166 0.         0.         ... 0.         1.         0.        ]\n",
      " [0.26738778 0.         0.57070525 ... 0.         0.         1.        ]]\n"
     ]
    }
   ],
   "source": [
    "\n",
    "sim_matrix = linear_kernel(tfidf_matrix,tfidf_matrix) # create the cosine similarity matrix\n",
    "print(sim_matrix)"
   ]
  },
  {
   "cell_type": "markdown",
   "id": "999a68c8",
   "metadata": {},
   "source": [
    "# Make the Recommendation Engine"
   ]
  },
  {
   "cell_type": "code",
   "execution_count": 71,
   "id": "52bcf49b",
   "metadata": {},
   "outputs": [],
   "source": [
    "# the function to convert from index to title_year\n",
    "def get_title_year_from_index(index):\n",
    "    return movies[movies.index == index]['title_year'].values[0]\n",
    "\n",
    "# the function to convert from title to index\n",
    "def get_index_from_title(title):\n",
    "\n",
    "    return movies[movies.title == title].index.values[0]"
   ]
  },
  {
   "cell_type": "markdown",
   "id": "ba5b133c",
   "metadata": {},
   "source": [
    "# Did You Mean"
   ]
  },
  {
   "cell_type": "markdown",
   "id": "4d0a043b",
   "metadata": {},
   "source": []
  },
  {
   "cell_type": "code",
   "execution_count": 74,
   "id": "872a8da3",
   "metadata": {},
   "outputs": [
    {
     "name": "stdout",
     "output_type": "stream",
     "text": [
      "Collecting fuzzywuzzy\n",
      "  Downloading fuzzywuzzy-0.18.0-py2.py3-none-any.whl (18 kB)\n",
      "Installing collected packages: fuzzywuzzy\n",
      "Successfully installed fuzzywuzzy-0.18.0\n"
     ]
    }
   ],
   "source": [
    "!pip install fuzzywuzzy"
   ]
  },
  {
   "cell_type": "code",
   "execution_count": 75,
   "id": "6bc54ddc",
   "metadata": {},
   "outputs": [
    {
     "name": "stderr",
     "output_type": "stream",
     "text": [
      "C:\\Users\\Taimoor M Gondal\\anaconda3\\lib\\site-packages\\fuzzywuzzy\\fuzz.py:11: UserWarning: Using slow pure-python SequenceMatcher. Install python-Levenshtein to remove this warning\n",
      "  warnings.warn('Using slow pure-python SequenceMatcher. Install python-Levenshtein to remove this warning')\n"
     ]
    }
   ],
   "source": [
    "from fuzzywuzzy import fuzz"
   ]
  },
  {
   "cell_type": "code",
   "execution_count": 76,
   "id": "36a25ce3",
   "metadata": {},
   "outputs": [],
   "source": [
    "# create a function to find the closest title\n",
    "def matching_score(a,b):\n",
    "    return fuzz.ratio(a,b)"
   ]
  },
  {
   "cell_type": "code",
   "execution_count": 77,
   "id": "39194cc0",
   "metadata": {},
   "outputs": [],
   "source": [
    "\n",
    "# a function to convert index to title\n",
    "def get_title_from_index(index):\n",
    "\n",
    "    return movies[movies.index == index]['title'].values[0]"
   ]
  },
  {
   "cell_type": "code",
   "execution_count": 78,
   "id": "3ad0a780",
   "metadata": {},
   "outputs": [],
   "source": [
    "# the function to return the most similar title to the words a user types\n",
    "def find_closest_title(title):\n",
    "    leven_scores = list(enumerate(movies['title'].apply(matching_score, b=title)))\n",
    "    sorted_leven_scores = sorted(leven_scores, key=lambda x: x[1], reverse=True)\n",
    "    closest_title = get_title_from_index(sorted_leven_scores[0][0])\n",
    "    distance_score = sorted_leven_scores[0][1]\n",
    "    return closest_title, distance_score"
   ]
  },
  {
   "cell_type": "markdown",
   "id": "d349118e",
   "metadata": {},
   "source": [
    "# Recommend Movie"
   ]
  },
  {
   "cell_type": "code",
   "execution_count": 79,
   "id": "7ca31c5a",
   "metadata": {},
   "outputs": [],
   "source": [
    "def contents_based_recommender(movie_user_likes, how_many):\n",
    "    closest_title, distance_score = find_closest_title(movie_user_likes)\n",
    "    if distance_score == 100:\n",
    "        movie_index = get_index_from_title(closest_title)\n",
    "        movie_list = list(enumerate(sim_matrix[int(movie_index)]))\n",
    "        similar_movies = list(filter(lambda x:x[0] != int(movie_index), sorted(movie_list,key=lambda x:x[1], reverse=True))) # remove the typed movie itself\n",
    "\n",
    "        print('Here\\'s the list of movies similar to '+'\\033[1m'+str(closest_title)+'\\033[0m'+'.\\n')\n",
    "\n",
    "    for i,s in similar_movies[:how_many]: \n",
    "        print(get_title_year_from_index(i))"
   ]
  },
  {
   "cell_type": "code",
   "execution_count": 82,
   "id": "3fad7283",
   "metadata": {},
   "outputs": [
    {
     "name": "stdout",
     "output_type": "stream",
     "text": [
      "Here's the list of movies similar to \u001b[1mJumanji\u001b[0m.\n",
      "\n",
      "Indian in the Cupboard, The (1995)\n",
      "NeverEnding Story III, The (1994)\n",
      "Escape to Witch Mountain (1975)\n",
      "Darby O'Gill and the Little People (1959)\n",
      "Return to Oz (1985)\n",
      "NeverEnding Story, The (1984)\n",
      "NeverEnding Story II: The Next Chapter, The (1990)\n",
      "Santa Claus: The Movie (1985)\n",
      "Harry Potter and the Sorcerer's Stone (a.k.a. Harry Potter and the Philosopher's Stone) (2001)\n",
      "Chronicles of Narnia: The Lion, the Witch and the Wardrobe, The (2005)\n",
      "Bridge to Terabithia (2007)\n",
      "Golden Compass, The (2007)\n",
      "Water Horse: Legend of the Deep, The (2007)\n",
      "Chronicles of Narnia: Prince Caspian, The (2008)\n",
      "Alice in Wonderland (1933)\n",
      "Chronicles of Narnia: The Voyage of the Dawn Treader, The (2010)\n",
      "Percy Jackson: Sea of Monsters (2013)\n",
      "Seventh Son (2014)\n",
      "The Cave of the Golden Rose (1991)\n",
      "Pan (2015)\n"
     ]
    }
   ],
   "source": [
    "contents_based_recommender('Jumanji', 20)\n"
   ]
  },
  {
   "cell_type": "code",
   "execution_count": null,
   "id": "f92547ab",
   "metadata": {},
   "outputs": [],
   "source": []
  }
 ],
 "metadata": {
  "kernelspec": {
   "display_name": "Python 3 (ipykernel)",
   "language": "python",
   "name": "python3"
  },
  "language_info": {
   "codemirror_mode": {
    "name": "ipython",
    "version": 3
   },
   "file_extension": ".py",
   "mimetype": "text/x-python",
   "name": "python",
   "nbconvert_exporter": "python",
   "pygments_lexer": "ipython3",
   "version": "3.9.12"
  }
 },
 "nbformat": 4,
 "nbformat_minor": 5
}
